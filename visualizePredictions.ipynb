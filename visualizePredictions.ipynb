{
 "cells": [
  {
   "cell_type": "code",
   "execution_count": 60,
   "metadata": {},
   "outputs": [
    {
     "data": {
      "text/plain": [
       "\"THIS JUPYTER NOTEBOOK IS USED TO CONVERT THE PREDICTED LABELS FOR EACH TEST IMAGE INTO \\nA BLACK-AND-WHITE IMAGE. THE PREDICTED IMAGES WILL BE SAVED INTO THE FOLDER 'PREDICTIONS' \\nWITH THEIR NUMBER RESPECTIVELY\""
      ]
     },
     "execution_count": 60,
     "metadata": {},
     "output_type": "execute_result"
    }
   ],
   "source": [
    "\"\"\"THIS JUPYTER NOTEBOOK IS USED TO CONVERT THE PREDICTED LABELS FOR EACH TEST IMAGE INTO \n",
    "A BLACK-AND-WHITE IMAGE. THE PREDICTED IMAGES WILL BE SAVED INTO THE FOLDER 'PREDICTIONS' \n",
    "WITH THEIR NUMBER RESPECTIVELY\"\"\""
   ]
  },
  {
   "cell_type": "code",
   "execution_count": 61,
   "metadata": {},
   "outputs": [],
   "source": [
    "import tensorflow as tf\n",
    "from utils.helpers import *\n",
    "from cnn_model import CnnModel\n",
    "import tensorflow.keras as keras\n",
    "import sys\n",
    "import matplotlib.pyplot as plt\n",
    "import numpy as np"
   ]
  },
  {
   "cell_type": "code",
   "execution_count": 63,
   "metadata": {},
   "outputs": [],
   "source": [
    "PATH_WEIGHTS = '../models/weightsOrig.h5'\n",
    "PATH_UNET = '../models/unet.h5'\n",
    "PATH_TEST_DATA = '../data/test_set_images/'\n",
    "PATH_PREDICTION_DIR = '../data/predictions/'\n",
    "PATH_SUBMISSION = '../final_submission.csv'\n",
    "TEST_SIZE = 50\n",
    "\n",
    "image_filenames_test = [PATH_TEST_DATA + 'test_' + str(i + 1) + '/' + 'test_' +\n",
    "                        str(i + 1) + '.png' for i in range(TEST_SIZE)]\n",
    "\n",
    "\n"
   ]
  },
  {
   "cell_type": "code",
   "execution_count": 64,
   "metadata": {},
   "outputs": [],
   "source": [
    "def predicted_BW(model, image_filename):\n",
    "    \"\"\"FOR VISUALIZATION\"\"\"\n",
    "\n",
    "    image = load_image(image_filename)\n",
    "    image = image.reshape((1, image.shape[0], image.shape[1], image.shape[2]))\n",
    "    #print(\"loaded test image after reshape\",image.shape)\n",
    "    \n",
    "    \n",
    "    # PREDICT LABELS\n",
    "    labels = model.predict(image)\n",
    "    #print(\"labelsshape1\",labels.shape)\n",
    "    labels = labels.reshape(-1)\n",
    "    #print(\"labelsshape2\",labels.shape)\n",
    "    \n",
    "    return labels"
   ]
  },
  {
   "cell_type": "code",
   "execution_count": 65,
   "metadata": {},
   "outputs": [
    {
     "name": "stdout",
     "output_type": "stream",
     "text": [
      "_________________________________________________________________\n",
      "Layer (type)                 Output Shape              Param #   \n",
      "=================================================================\n",
      "conv2d_33 (Conv2D)           (None, 72, 72, 64)        4864      \n",
      "_________________________________________________________________\n",
      "leaky_re_lu_44 (LeakyReLU)   (None, 72, 72, 64)        0         \n",
      "_________________________________________________________________\n",
      "max_pooling2d_33 (MaxPooling (None, 36, 36, 64)        0         \n",
      "_________________________________________________________________\n",
      "dropout_44 (Dropout)         (None, 36, 36, 64)        0         \n",
      "_________________________________________________________________\n",
      "conv2d_34 (Conv2D)           (None, 36, 36, 128)       73856     \n",
      "_________________________________________________________________\n",
      "leaky_re_lu_45 (LeakyReLU)   (None, 36, 36, 128)       0         \n",
      "_________________________________________________________________\n",
      "max_pooling2d_34 (MaxPooling (None, 18, 18, 128)       0         \n",
      "_________________________________________________________________\n",
      "dropout_45 (Dropout)         (None, 18, 18, 128)       0         \n",
      "_________________________________________________________________\n",
      "conv2d_35 (Conv2D)           (None, 18, 18, 256)       295168    \n",
      "_________________________________________________________________\n",
      "leaky_re_lu_46 (LeakyReLU)   (None, 18, 18, 256)       0         \n",
      "_________________________________________________________________\n",
      "max_pooling2d_35 (MaxPooling (None, 9, 9, 256)         0         \n",
      "_________________________________________________________________\n",
      "dropout_46 (Dropout)         (None, 9, 9, 256)         0         \n",
      "_________________________________________________________________\n",
      "flatten_11 (Flatten)         (None, 20736)             0         \n",
      "_________________________________________________________________\n",
      "dense_22 (Dense)             (None, 128)               2654336   \n",
      "_________________________________________________________________\n",
      "leaky_re_lu_47 (LeakyReLU)   (None, 128)               0         \n",
      "_________________________________________________________________\n",
      "dropout_47 (Dropout)         (None, 128)               0         \n",
      "_________________________________________________________________\n",
      "dense_23 (Dense)             (None, 2)                 258       \n",
      "=================================================================\n",
      "Total params: 3,028,482\n",
      "Trainable params: 3,028,482\n",
      "Non-trainable params: 0\n",
      "_________________________________________________________________\n"
     ]
    }
   ],
   "source": [
    "#instanciate model\n",
    "cnn = CnnModel()\n",
    "cnn.load_weights(PATH_WEIGHTS)\n",
    "\n"
   ]
  },
  {
   "cell_type": "code",
   "execution_count": 66,
   "metadata": {},
   "outputs": [
    {
     "name": "stdout",
     "output_type": "stream",
     "text": [
      "Predicting images..\n",
      "Predicting images..\n",
      "Predicting images..\n",
      "Predicting images..\n",
      "Predicting images..\n",
      "Predicting images..\n",
      "Predicting images..\n",
      "Predicting images..\n",
      "Predicting images..\n",
      "Predicting images..\n",
      "Predicting images..\n",
      "Predicting images..\n",
      "Predicting images..\n",
      "Predicting images..\n",
      "Predicting images..\n",
      "Predicting images..\n",
      "Predicting images..\n",
      "Predicting images..\n",
      "Predicting images..\n",
      "Predicting images..\n",
      "Predicting images..\n",
      "Predicting images..\n",
      "Predicting images..\n",
      "Predicting images..\n",
      "Predicting images..\n",
      "Predicting images..\n",
      "Predicting images..\n",
      "Predicting images..\n",
      "Predicting images..\n",
      "Predicting images..\n",
      "Predicting images..\n",
      "Predicting images..\n",
      "Predicting images..\n",
      "Predicting images..\n",
      "Predicting images..\n",
      "Predicting images..\n",
      "Predicting images..\n",
      "Predicting images..\n",
      "Predicting images..\n",
      "Predicting images..\n",
      "Predicting images..\n",
      "Predicting images..\n",
      "Predicting images..\n",
      "Predicting images..\n",
      "Predicting images..\n",
      "Predicting images..\n",
      "Predicting images..\n",
      "Predicting images..\n",
      "Predicting images..\n",
      "Predicting images..\n"
     ]
    }
   ],
   "source": [
    "labels = []\n",
    "for i in range(TEST_SIZE):\n",
    "    image_filenames = image_filenames_test[i]\n",
    "    labels.append(predicted_BW(cnn, image_filenames))"
   ]
  },
  {
   "cell_type": "code",
   "execution_count": 67,
   "metadata": {},
   "outputs": [],
   "source": [
    "# Convert array of labels to an image\n",
    "def label_to_img(imgwidth, imgheight, w, h, labels):\n",
    "    array_labels = np.zeros([imgwidth, imgheight])\n",
    "    idx = 0\n",
    "    for i in range(0, imgheight, h):\n",
    "        for j in range(0, imgwidth, w):\n",
    "            if labels[idx] > 0.5:  # bgrd\n",
    "                l = 1\n",
    "            else:\n",
    "                l = 0\n",
    "            array_labels[j:j+w, i:i+h] = l\n",
    "            idx = idx + 1\n",
    "    return array_labels"
   ]
  },
  {
   "cell_type": "code",
   "execution_count": 68,
   "metadata": {},
   "outputs": [],
   "source": [
    "for i in range(TEST_SIZE):\n",
    "    plt.imsave(PATH_PREDICTION_DIR + 'pred_'+str(i+1),label_to_img(608,608,16,16,labels[i]),cmap=\"Greys_r\")"
   ]
  },
  {
   "cell_type": "code",
   "execution_count": 45,
   "metadata": {},
   "outputs": [
    {
     "data": {
      "text/plain": [
       "<matplotlib.image.AxesImage at 0x7f8432dfc390>"
      ]
     },
     "execution_count": 45,
     "metadata": {},
     "output_type": "execute_result"
    },
    {
     "data": {
      "image/png": "[encoded data removed]",
      "text/plain": [
       "<Figure size 432x288 with 1 Axes>"
      ]
     },
     "metadata": {
      "needs_background": "light"
     },
     "output_type": "display_data"
    }
   ],
   "source": []
  },
  {
   "cell_type": "code",
   "execution_count": null,
   "metadata": {},
   "outputs": [],
   "source": [
    "# todo: notebook, that involves predictions path to save all the predicted images!!!"
   ]
  }
 ],
 "metadata": {
  "kernelspec": {
   "display_name": "Python 3",
   "language": "python",
   "name": "python3"
  },
  "language_info": {
   "codemirror_mode": {
    "name": "ipython",
    "version": 3
   },
   "file_extension": ".py",
   "mimetype": "text/x-python",
   "name": "python",
   "nbconvert_exporter": "python",
   "pygments_lexer": "ipython3",
   "version": "3.6.8"
  }
 },
 "nbformat": 4,
 "nbformat_minor": 2
}
