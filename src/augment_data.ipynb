{
 "cells": [
  {
   "cell_type": "code",
   "execution_count": 1,
   "metadata": {},
   "outputs": [],
   "source": [
    "import matplotlib.image as mpimg\n",
    "import numpy as np\n",
    "import matplotlib.pyplot as plt\n",
    "import os,sys\n",
    "from scipy import ndimage, misc\n",
    "from helpers import *\n",
    "import skimage.transform as st\n",
    "import cv2 as cv\n",
    "import imageio\n",
    "from PIL import Image"
   ]
  },
  {
   "cell_type": "code",
   "execution_count": null,
   "metadata": {},
   "outputs": [],
   "source": []
  },
  {
   "cell_type": "code",
   "execution_count": 2,
   "metadata": {},
   "outputs": [],
   "source": [
    "from helpers import *\n",
    "import numpy as np\n",
    "import tensorflow as tf\n",
    "from tensorflow import keras\n",
    "from tensorflow.keras import layers"
   ]
  },
  {
   "cell_type": "code",
   "execution_count": 3,
   "metadata": {},
   "outputs": [],
   "source": [
    "def patch_to_label(patch):\n",
    "    \"\"\"Maps a BW white patch image to a label using thresholding \"\"\"\n",
    "    df = np.mean(patch)\n",
    "    if df > 0.25:\n",
    "        return 1\n",
    "    else:\n",
    "        return 0"
   ]
  },
  {
   "cell_type": "code",
   "execution_count": null,
   "metadata": {},
   "outputs": [],
   "source": []
  },
  {
   "cell_type": "code",
   "execution_count": null,
   "metadata": {},
   "outputs": [],
   "source": []
  },
  {
   "cell_type": "code",
   "execution_count": 4,
   "metadata": {},
   "outputs": [
    {
     "name": "stdout",
     "output_type": "stream",
     "text": [
      "Loading 100 images\n",
      "satImage_666.png\n",
      "Loading 100 images\n"
     ]
    }
   ],
   "source": [
    "# Loaded a set of images\n",
    "root_dir = \"training/\"\n",
    "image_dir = root_dir + \"images/\"\n",
    "files = os.listdir(image_dir)\n",
    "n = 100 # 100 images\n",
    "\n",
    "print(\"Loading \" + str(n) + \" images\")\n",
    "imgs = [load_image(image_dir + files[i]) for i in range(n)]\n",
    "print(files[0])\n",
    "\n",
    "gt_dir = root_dir + \"groundtruth/\"\n",
    "print(\"Loading \" + str(n) + \" images\")\n",
    "gt_imgs = [load_image(gt_dir + files[i]) for i in range(n)]"
   ]
  },
  {
   "cell_type": "code",
   "execution_count": 11,
   "metadata": {},
   "outputs": [
    {
     "name": "stdout",
     "output_type": "stream",
     "text": [
      "(160000,)\n"
     ]
    }
   ],
   "source": [
    "flat=np.ndarray.flatten(gt_imgs[3])\n",
    "print(flat.shape)"
   ]
  },
  {
   "cell_type": "code",
   "execution_count": 22,
   "metadata": {},
   "outputs": [
    {
     "name": "stdout",
     "output_type": "stream",
     "text": [
      "1\n",
      "to cat [0. 1.]\n",
      "1\n",
      "to cat [0. 1.]\n",
      "1\n",
      "to cat [0. 1.]\n",
      "1\n",
      "to cat [0. 1.]\n",
      "1\n",
      "to cat [0. 1.]\n",
      "1\n",
      "to cat [0. 1.]\n",
      "1\n",
      "to cat [0. 1.]\n",
      "1\n",
      "to cat [0. 1.]\n",
      "1\n",
      "to cat [0. 1.]\n",
      "1\n",
      "to cat [0. 1.]\n",
      "1\n",
      "to cat [0. 1.]\n",
      "1\n",
      "to cat [0. 1.]\n",
      "1\n",
      "to cat [0. 1.]\n",
      "1\n",
      "to cat [0. 1.]\n",
      "1\n",
      "to cat [0. 1.]\n"
     ]
    }
   ],
   "source": [
    "for n in range(100):\n",
    "    y= patch_to_label(gt_imgs[n])\n",
    "    if y == 1:\n",
    "        print(y)\n",
    "        y=keras.utils.to_categorical(patch_to_label(gt_imgs[n]), num_classes = 2)\n",
    "\n",
    "        print(\"to cat\",y)"
   ]
  },
  {
   "cell_type": "code",
   "execution_count": 102,
   "metadata": {},
   "outputs": [],
   "source": [
    "## DATA AUGMENTATION, rotate every image by a certain angle.\n",
    "\n",
    "#width, height for image crop\n",
    "w,h = 400,400 \n",
    "\n",
    "#iterator for correct names for the images\n",
    "j=0\n",
    "\n",
    "for i in range(100):\n",
    "    #for angle in (15,30):\n",
    "    for angle in (15,30,45,60,90,100,180,270): \n",
    "        img = imgs[i]\n",
    "        img_gt = gt_imgs[i]\n",
    "\n",
    "        ## IMAGE\n",
    "        img_changed = ndimage.rotate(img, angle, reshape=True,mode='mirror') #rotate image\n",
    "        img_final = img_crop(img_changed,w,h)\n",
    "        img_final=img_float_to_uint8(img_final[0])\n",
    "\n",
    "        ## GROUNDTRUTH\n",
    "        gt_img_changed = ndimage.rotate(img_gt, angle, reshape=True,mode='mirror') #rotate groundtruth\n",
    "        gt_img_final = img_crop(gt_img_changed,w,h)\n",
    "        gt_img_final=img_float_to_uint8(gt_img_final[0])\n",
    "        ret,gt_img_final = cv.threshold(gt_img_final,127,255,cv.THRESH_BINARY)\n",
    "\n",
    "        ## SAVE IMAGES\n",
    "        imageio.imwrite('training/images/satImage_{}.png'.format(j+101),img_final)        \n",
    "        imageio.imwrite('training/groundtruth/satImage_{}.png'.format(j+101),gt_img_final)        \n",
    "\n",
    "        j += 1"
   ]
  },
  {
   "cell_type": "code",
   "execution_count": 3,
   "metadata": {},
   "outputs": [
    {
     "name": "stdout",
     "output_type": "stream",
     "text": [
      "Loading 900 images\n",
      "satImage_666.png\n",
      "Loading 900 images\n"
     ]
    }
   ],
   "source": [
    "# Loaded a set of images\n",
    "root_dir = \"training/\"\n",
    "image_dir = root_dir + \"images/\"\n",
    "files = os.listdir(image_dir)\n",
    "n = 900 # 100 images\n",
    "\n",
    "print(\"Loading \" + str(n) + \" images\")\n",
    "imgs = [load_image(image_dir + files[i]) for i in range(n)]\n",
    "print(files[0])\n",
    "\n",
    "gt_dir = root_dir + \"groundtruth/\"\n",
    "print(\"Loading \" + str(n) + \" images\")\n",
    "gt_imgs = [load_image(gt_dir + files[i]) for i in range(n)]\n"
   ]
  },
  {
   "cell_type": "code",
   "execution_count": 7,
   "metadata": {},
   "outputs": [
    {
     "name": "stdout",
     "output_type": "stream",
     "text": [
      "[[0. 0. 0. ... 0. 0. 0.]\n",
      " [0. 0. 0. ... 0. 0. 0.]\n",
      " [0. 0. 0. ... 0. 0. 0.]\n",
      " ...\n",
      " [0. 0. 0. ... 0. 0. 0.]\n",
      " [0. 0. 0. ... 0. 0. 0.]\n",
      " [0. 0. 0. ... 0. 0. 0.]]\n"
     ]
    }
   ],
   "source": []
  },
  {
   "cell_type": "code",
   "execution_count": null,
   "metadata": {},
   "outputs": [],
   "source": []
  }
 ],
 "metadata": {
  "kernelspec": {
   "display_name": "Python 3",
   "language": "python",
   "name": "python3"
  },
  "language_info": {
   "codemirror_mode": {
    "name": "ipython",
    "version": 3
   },
   "file_extension": ".py",
   "mimetype": "text/x-python",
   "name": "python",
   "nbconvert_exporter": "python",
   "pygments_lexer": "ipython3",
   "version": "3.6.8"
  }
 },
 "nbformat": 4,
 "nbformat_minor": 2
}
